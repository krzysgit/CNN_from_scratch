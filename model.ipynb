{
 "cells": [
  {
   "cell_type": "code",
   "execution_count": 1,
   "id": "f2b1e528",
   "metadata": {},
   "outputs": [],
   "source": [
    "import numpy as np\n",
    "\n",
    "from core.Convolutional import Convolutional\n",
    "from core.Flatten import Flatten\n",
    "from core.Softmax import Softmax\n",
    "from core.ReLU import ActivationLayer\n",
    "from core.MaxPool import MaxPool\n",
    "from core.FullyConnected import FullyConnected\n",
    "from core.Model import Model\n",
    "\n",
    "from training.train import train, test_model\n",
    "\n",
    "from torchvision import datasets\n",
    "from torch.utils.data import DataLoader"
   ]
  },
  {
   "cell_type": "code",
   "execution_count": 2,
   "id": "8ec8e4a7",
   "metadata": {},
   "outputs": [],
   "source": [
    "class ToNumpy:\n",
    "    def __call__(self, pic):\n",
    "        return np.array(pic, dtype=np.float32)  # convert to float32 NumPy array\n",
    "mnist_train = datasets.MNIST(root='./training/data', train=True, download=True, transform=ToNumpy())\n",
    "train_loader = DataLoader(mnist_train, batch_size=32, shuffle=True, num_workers=2)"
   ]
  },
  {
   "cell_type": "markdown",
   "id": "a5b03d81",
   "metadata": {},
   "source": [
    "# Train custom model or alteratively load a pretrained one"
   ]
  },
  {
   "cell_type": "code",
   "execution_count": null,
   "id": "3658435e",
   "metadata": {},
   "outputs": [],
   "source": [
    "layers = [\n",
    "    Convolutional(1,16,3,1,1),\n",
    "    ActivationLayer(),\n",
    "    MaxPool(16,2,2),\n",
    "    Convolutional(16,32,3,1,1),\n",
    "    ActivationLayer(),\n",
    "    MaxPool(32,2,2),\n",
    "    Flatten(),\n",
    "    FullyConnected(1568,128),\n",
    "    ActivationLayer(),\n",
    "    FullyConnected(128, 10),\n",
    "    Softmax(temperature=1),\n",
    "]\n",
    "model = Model(layers)"
   ]
  },
  {
   "cell_type": "code",
   "execution_count": null,
   "id": "3001a91d",
   "metadata": {},
   "outputs": [],
   "source": [
    "train(model, train_loader, 3, 0.001)"
   ]
  },
  {
   "cell_type": "markdown",
   "id": "954eb528",
   "metadata": {},
   "source": [
    "# Or load a pretrained model"
   ]
  },
  {
   "cell_type": "code",
   "execution_count": 14,
   "id": "d1687b51",
   "metadata": {},
   "outputs": [],
   "source": [
    "layers_data = np.load(\"./saved_models/layers.npz\", allow_pickle=True)\n",
    "layers_loaded = [layers_data[f\"layer_{i}\"] for i in range(len(layers_data.files))]\n",
    "params = np.load(\"./saved_models/model_data.npz\", allow_pickle=True)\n",
    "model = Model(layers_loaded)\n",
    "for key in params.files:\n",
    "    setattr(model, key, params[key])\n"
   ]
  },
  {
   "cell_type": "markdown",
   "id": "3713598d",
   "metadata": {},
   "source": [
    "# Test the model"
   ]
  },
  {
   "cell_type": "code",
   "execution_count": 13,
   "id": "8bfc430a",
   "metadata": {},
   "outputs": [
    {
     "name": "stdout",
     "output_type": "stream",
     "text": [
      "0.9435\n"
     ]
    }
   ],
   "source": [
    "test_dataset = mnist_train = datasets.MNIST(root='./training/data', train=False, download=True, transform=ToNumpy())\n",
    "print(test_model(model,test_dataset,32))"
   ]
  }
 ],
 "metadata": {
  "kernelspec": {
   "display_name": "CNNonlyNum",
   "language": "python",
   "name": "python3"
  },
  "language_info": {
   "codemirror_mode": {
    "name": "ipython",
    "version": 3
   },
   "file_extension": ".py",
   "mimetype": "text/x-python",
   "name": "python",
   "nbconvert_exporter": "python",
   "pygments_lexer": "ipython3",
   "version": "3.10.16"
  }
 },
 "nbformat": 4,
 "nbformat_minor": 5
}
